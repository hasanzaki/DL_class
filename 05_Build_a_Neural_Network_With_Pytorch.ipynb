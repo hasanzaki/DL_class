{
  "cells": [
    {
      "cell_type": "markdown",
      "metadata": {
        "id": "b94NLaxoh2u7"
      },
      "source": [
        "# Build a Neural Network with Pytorch\n",
        "\n",
        "Implement a vanilla neural network from scratch using Pytorch.\n",
        "\n",
        "We will cover the following:\n",
        "\n",
        "- PyTorch basics\n",
        "\n",
        "- Build a neural network\n",
        "\n",
        "- Program your own neural network"
      ]
    },
    {
      "cell_type": "markdown",
      "metadata": {
        "id": "WIig8Arzh2vF"
      },
      "source": [
        "# PyTorch basics\n",
        "\n",
        "In the previous lessons, we looked at some Pytorch code, but this time we will take a closer look at it.\n",
        "\n",
        "Pytorch (https://pytorch.org/) is an open-source Python deep learning framework that enables us to build and train neural networks. Pytorch is a library that helps you perform mathematical operations between matrices in their basic form because, as you will realize in this course, deep learning is just simple linear algebra.\n",
        "\n",
        "The fundamental building block of Pytorch is the **tensor**. A tensor is an N-dimensional array. We can have an 1D-array (or a vector) $x=[1,2,3,4,5]$ , a 2D-array $y=[[1,2],[3,4]]$, and so on.\n",
        "\n",
        "In Pytorch, these can be defined as:"
      ]
    },
    {
      "cell_type": "code",
      "execution_count": null,
      "metadata": {
        "id": "Va6JLvOsh2vG"
      },
      "outputs": [],
      "source": [
        "import torch\n",
        "\n",
        "X= torch.tensor ([1,2])\n",
        "Y= torch.tensor ([[1,2],[3,4]])"
      ]
    },
    {
      "cell_type": "markdown",
      "metadata": {
        "id": "G_TIjS18h2vI"
      },
      "source": [
        "From there we can define almost all mathematical operations between tensors."
      ]
    },
    {
      "cell_type": "code",
      "execution_count": null,
      "metadata": {
        "id": "BmQ9ps73h2vM"
      },
      "outputs": [],
      "source": [
        "#Z = torch.add(X,Y)\n",
        "Z = torch.matmul(X,Y)\n",
        "Z = 1 / (1+torch.exp(X))"
      ]
    },
    {
      "cell_type": "markdown",
      "metadata": {
        "id": "y8tyyTohh2vP"
      },
      "source": [
        "Let’s revisit the neuron’s equation:\n",
        "\n",
        "> $a = f(w_1 ∗ a_1 + w_2 ∗ a_2 + w_3 ∗ a_3 + b_o)$\n",
        "\n",
        "The above equation can be easily transformed into tensor operations (remember everything in deep learning can be represented as tensors).\n",
        "\n",
        "> $[a] = f([ w1, w2, w3] * [a1, a2,a3 ] +[b_o])$\n",
        "\n",
        "All we did here is this:\n",
        "\n",
        "- Gather together all activations into a 1-d vector and all weights into another 1-d vector.\n",
        "\n",
        "- Multiply them.\n",
        "\n",
        "- Add the bias.\n",
        "\n",
        "- Apply the sigmoid function in the result\n",
        "\n",
        "Note that individual numbers can also be seen as 0d tensors.\n",
        "\n",
        "Let’s proceed with our first exercise. Using everything that you learned just now,try to program your first neuron from scratch. All necessary information and commands have already been mentioned, so all you have to do is reconstruct the above equation using Pytorch.\n"
      ]
    },
    {
      "cell_type": "markdown",
      "metadata": {
        "id": "o4fdaFGHh2vU"
      },
      "source": [
        "# Build a neural network\n",
        "\n",
        "Luckily, for us, Pytorch provides lots of ready functions so that we don’t have to build each neuron from scratch. For example, if we want to declare a layer of neurons, we can use the premade function as follows:\n",
        "\n",
        "> linear1 = nn.Linear(5, 20)\n",
        "\n",
        "The above command constructs a layer that inputs a 5-dimensional vector and outputs a 20-dimensional vector."
      ]
    },
    {
      "cell_type": "markdown",
      "metadata": {
        "id": "sVMYelmQh2vt"
      },
      "source": [
        "To develop a neural network, we can use the following function, which defines a sequential order of individual layers:\n",
        "\n",
        "Using five lines of code, we build a neural network that has two inputs, a hidden layer with three neurons and two outputs. Note that the linear layer does not contain the activation function, so we have to explicitly declare them as well."
      ]
    },
    {
      "cell_type": "code",
      "source": [
        "import torch\n",
        "import torch.nn as nn\n",
        "import torch.nn.functional as F"
      ],
      "metadata": {
        "id": "nnnTso83EFes"
      },
      "execution_count": 1,
      "outputs": []
    },
    {
      "cell_type": "code",
      "source": [
        "class Model(nn.Module):\n",
        "    def __init__(self):\n",
        "        super(Model, self).__init__()\n",
        "        # Define the input layer (for example, 10 input features)\n",
        "        self.fc1 = nn.Linear(10, 5)  # 5 neurons in the hidden layer\n",
        "        # Define the output layer (assuming a binary classification)\n",
        "        self.fc2 = nn.Linear(5, 2)   # 2 output features\n",
        "\n",
        "    def forward(self, x):\n",
        "        # Pass the input through the hidden layer, then apply a ReLU activation function\n",
        "        x = F.relu(self.fc1(x))\n",
        "        # Pass the result through the output layer\n",
        "        o = self.fc2(x)\n",
        "        return o"
      ],
      "metadata": {
        "id": "-CB98WSbD1hK"
      },
      "execution_count": 2,
      "outputs": []
    },
    {
      "cell_type": "markdown",
      "metadata": {
        "id": "DY4J1u83h2vu"
      },
      "source": [
        "# Program your own neural network\n",
        "\n",
        "Now that you are more familiar with building a neural network in Pytorch, let’s see what’s going on under the hood. We will come back to the 2-3-2 NN for simplicity.\n",
        "\n",
        "The following is another way to define a NN in Pytorch:"
      ]
    },
    {
      "cell_type": "code",
      "execution_count": 3,
      "metadata": {
        "id": "Ruhlk45Eh2vw"
      },
      "outputs": [],
      "source": [
        "class Model(nn.Module):\n",
        "    def __init__(self):\n",
        "        super(Model, self).__init__()\n",
        "        self.linear1 = nn.Linear(2, 3)\n",
        "        self.linear2 = nn.Linear(3, 2)\n",
        "\n",
        "    def forward(self, x):\n",
        "        h = torch.sigmoid(self.linear1(x))\n",
        "        o = torch.sigmoid(self.linear2(h))\n",
        "        return o"
      ]
    },
    {
      "cell_type": "markdown",
      "metadata": {
        "id": "Em55UeLyh2vx"
      },
      "source": [
        "Many people prefer it because it gives more control and explainability over the network. To run a forward propagation, we can create a random input, initialize the model, and pass the input as an argument as follows:"
      ]
    },
    {
      "cell_type": "code",
      "execution_count": 4,
      "metadata": {
        "id": "tiKqlehnh2vy"
      },
      "outputs": [],
      "source": [
        "model= Model()\n",
        "X = torch.randn((1, 2))\n",
        "Y = model(X)"
      ]
    },
    {
      "cell_type": "markdown",
      "metadata": {
        "id": "qL0vvB9gh2vy"
      },
      "source": [
        "Our input is:"
      ]
    },
    {
      "cell_type": "code",
      "execution_count": 5,
      "metadata": {
        "colab": {
          "base_uri": "https://localhost:8080/"
        },
        "id": "r44OAG6ph2vz",
        "outputId": "d3dd28bf-5522-4f7e-cc1c-66c4df08e6ad"
      },
      "outputs": [
        {
          "output_type": "execute_result",
          "data": {
            "text/plain": [
              "tensor([[ 0.5873, -0.4979]])"
            ]
          },
          "metadata": {},
          "execution_count": 5
        }
      ],
      "source": [
        "X"
      ]
    },
    {
      "cell_type": "markdown",
      "metadata": {
        "id": "DNfEL5kHh2vz"
      },
      "source": [
        "While the model’s weights are:"
      ]
    },
    {
      "cell_type": "code",
      "execution_count": 6,
      "metadata": {
        "colab": {
          "base_uri": "https://localhost:8080/"
        },
        "id": "bEvqH5wkh2v0",
        "outputId": "97f1ac0a-28b2-4a8a-e9b3-ab5f0b3f0c1b"
      },
      "outputs": [
        {
          "output_type": "stream",
          "name": "stdout",
          "text": [
            "tensor([[-0.2052,  0.6032],\n",
            "        [-0.6249, -0.4945],\n",
            "        [ 0.1953, -0.0970]])\n",
            "tensor([-0.1747, -0.6703, -0.3340])\n",
            "tensor([[ 0.4929, -0.3548,  0.0806],\n",
            "        [ 0.2325, -0.0759, -0.3061]])\n",
            "tensor([-0.1267,  0.5160])\n"
          ]
        }
      ],
      "source": [
        "for param in model.parameters():\n",
        "  print(param.data)"
      ]
    },
    {
      "cell_type": "markdown",
      "metadata": {
        "id": "l3Gp1nrjh2v0"
      },
      "source": [
        "Now, it is your turn to build a neural network. Let’s have it receive a vector with 10 numbers, have 3 linear layers with dimensions 128, 64, 2, and two RELU layers in between."
      ]
    },
    {
      "cell_type": "code",
      "execution_count": null,
      "metadata": {
        "id": "GemHjb4Yh2v1"
      },
      "outputs": [],
      "source": [
        "import torch\n",
        "import torch.nn as nn\n",
        "\n",
        "seed = 172\n",
        "torch.manual_seed(seed)\n",
        "torch.cuda.manual_seed(seed)\n",
        "\n",
        "class myModel(nn.Module):\n",
        "    def __init__(self):\n",
        "        ### WRITE YOUR ANSWER HERE\n",
        "\n",
        "    def forward(self, x):\n",
        "        ### WRITE YOUR ANSWER HERE\n",
        "\n",
        "        return o"
      ]
    },
    {
      "cell_type": "code",
      "execution_count": null,
      "metadata": {
        "id": "OU1MNmfBh2v3"
      },
      "outputs": [],
      "source": [
        "our_ann = myModel()\n",
        "\n",
        "X = torch.randn((1, 10))\n",
        "Y = our_ann(X)"
      ]
    },
    {
      "cell_type": "code",
      "execution_count": null,
      "metadata": {
        "colab": {
          "base_uri": "https://localhost:8080/"
        },
        "id": "cN2VYmNsh2v3",
        "outputId": "9f828f5b-4f9c-4f4e-c2a1-d6b02c2adbdf"
      },
      "outputs": [
        {
          "output_type": "stream",
          "name": "stdout",
          "text": [
            "tensor([[ 0.1817,  0.1289,  0.1198,  ..., -0.3111,  0.1290, -0.0238],\n",
            "        [ 0.0344, -0.1924,  0.2416,  ..., -0.1691,  0.1559, -0.3137],\n",
            "        [ 0.0039, -0.0058, -0.2089,  ...,  0.0114, -0.1345,  0.0234],\n",
            "        ...,\n",
            "        [ 0.1086,  0.0373,  0.1918,  ...,  0.2507, -0.3046,  0.1682],\n",
            "        [ 0.1203,  0.1845, -0.2415,  ..., -0.0630, -0.1802, -0.1472],\n",
            "        [ 0.1200, -0.0621,  0.2880,  ..., -0.2424,  0.2864, -0.0272]])\n",
            "torch.Size([128, 10])\n",
            "tensor([[-0.0547, -0.0213,  0.0212,  ...,  0.0614, -0.0597,  0.0626],\n",
            "        [-0.0222, -0.0509,  0.0137,  ...,  0.0110, -0.0503, -0.0594],\n",
            "        [ 0.0716, -0.0456, -0.0242,  ..., -0.0191,  0.0055, -0.0498],\n",
            "        ...,\n",
            "        [-0.0422,  0.0660,  0.0765,  ..., -0.0261, -0.0673,  0.0115],\n",
            "        [ 0.0171,  0.0497, -0.0492,  ...,  0.0613,  0.0039,  0.0024],\n",
            "        [-0.0601,  0.0879,  0.0165,  ...,  0.0848,  0.0207, -0.0804]])\n",
            "torch.Size([64, 128])\n",
            "tensor([-0.0097, -0.0150, -0.0699, -0.0042,  0.0336,  0.0414, -0.0097, -0.0540,\n",
            "         0.0752, -0.0707,  0.0810, -0.0122,  0.0680,  0.0397,  0.0624, -0.0739,\n",
            "         0.0658, -0.0631,  0.0151, -0.0013,  0.0579, -0.0101,  0.0197,  0.0131,\n",
            "        -0.0075,  0.0484, -0.0733,  0.0624,  0.0533,  0.0697,  0.0201, -0.0454,\n",
            "        -0.0599, -0.0774,  0.0342,  0.0469,  0.0055,  0.0179, -0.0787, -0.0322,\n",
            "         0.0456,  0.0212, -0.0295, -0.0681,  0.0154, -0.0439,  0.0547,  0.0448,\n",
            "         0.0463, -0.0553,  0.0395,  0.0392,  0.0478,  0.0223,  0.0410,  0.0005,\n",
            "         0.0822,  0.0822, -0.0681, -0.0412, -0.0792,  0.0010,  0.0206,  0.0140])\n",
            "torch.Size([64])\n",
            "tensor([[-5.5561e-02,  9.9160e-02, -6.6624e-03,  2.5621e-02,  8.3742e-02,\n",
            "         -8.8606e-02,  4.4131e-02, -4.1140e-02, -9.9645e-02, -1.0659e-01,\n",
            "          5.5253e-02, -2.2296e-03, -5.3173e-02, -5.8516e-02,  8.8766e-02,\n",
            "          8.7878e-02,  9.6344e-02,  1.0831e-01, -7.0133e-02, -9.8557e-02,\n",
            "         -5.2612e-02,  4.3682e-02,  3.2239e-03, -1.4867e-02,  6.7775e-02,\n",
            "         -6.8934e-02,  1.4744e-02, -3.2894e-02,  6.0751e-02, -4.1499e-02,\n",
            "          9.6452e-02, -7.7743e-02, -8.7313e-02,  4.6116e-02,  1.8625e-02,\n",
            "         -1.2261e-01, -5.0651e-02, -5.0591e-02, -9.4875e-02, -6.7896e-02,\n",
            "          1.9818e-02, -1.0428e-01,  8.6385e-02,  1.6497e-02, -6.5635e-02,\n",
            "          9.4235e-05,  7.9477e-02,  9.3785e-02,  6.7509e-02, -6.9080e-02,\n",
            "          9.2269e-02,  5.2152e-02,  1.0382e-01, -5.5410e-02, -1.0485e-01,\n",
            "          4.5092e-03, -8.5559e-02, -1.0136e-02,  1.0804e-02, -8.1023e-02,\n",
            "         -3.2471e-02, -4.7910e-02, -4.7114e-02,  9.5768e-03],\n",
            "        [ 1.2033e-01, -2.6298e-03, -4.2968e-02,  4.5911e-02, -1.0617e-01,\n",
            "         -5.9886e-03,  8.9092e-02,  1.2338e-01,  9.6749e-02,  3.8056e-02,\n",
            "          1.5510e-03, -1.0440e-01,  9.9875e-02,  6.3386e-02,  9.7060e-02,\n",
            "         -5.8115e-02,  1.0129e-01, -9.2338e-02,  8.6358e-02, -6.3599e-02,\n",
            "         -7.6379e-02,  8.8920e-02,  9.7319e-02,  4.3393e-03,  9.1585e-02,\n",
            "          9.1505e-02,  8.4448e-02,  7.6464e-02,  1.1723e-01, -8.8039e-02,\n",
            "          1.9297e-02, -5.5369e-02, -9.7493e-02,  5.6589e-02, -7.6121e-02,\n",
            "         -1.5423e-02,  8.1543e-02, -5.1369e-02, -4.5083e-02,  9.6637e-02,\n",
            "         -6.0754e-02, -9.3268e-03, -3.6278e-02,  7.8445e-02, -8.7028e-02,\n",
            "          4.8890e-02,  1.1695e-01,  2.3456e-02,  9.2711e-02,  6.7370e-02,\n",
            "         -1.2061e-01,  1.0551e-01,  2.6331e-02,  1.0428e-01,  6.2211e-02,\n",
            "          7.4185e-02,  1.5063e-02,  9.7106e-02,  8.0763e-02,  6.9176e-02,\n",
            "         -4.2849e-02, -5.4000e-02,  7.7360e-02, -2.2480e-02]])\n",
            "torch.Size([2, 64])\n",
            "tensor([-0.0540, -0.0073])\n",
            "torch.Size([2])\n"
          ]
        }
      ],
      "source": [
        "for param in our_ann.parameters():\n",
        "  print(param.data)\n",
        "  print(param.data.shape)"
      ]
    },
    {
      "cell_type": "code",
      "execution_count": null,
      "metadata": {
        "id": "KuooD4Veh2v4"
      },
      "outputs": [],
      "source": []
    }
  ],
  "metadata": {
    "kernelspec": {
      "display_name": "Python 3.7 (pytorch_hasan)",
      "language": "python",
      "name": "torch"
    },
    "language_info": {
      "codemirror_mode": {
        "name": "ipython",
        "version": 3
      },
      "file_extension": ".py",
      "mimetype": "text/x-python",
      "name": "python",
      "nbconvert_exporter": "python",
      "pygments_lexer": "ipython3",
      "version": "3.7.9"
    },
    "colab": {
      "provenance": []
    }
  },
  "nbformat": 4,
  "nbformat_minor": 0
}